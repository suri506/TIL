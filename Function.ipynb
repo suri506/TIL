{
  "nbformat": 4,
  "nbformat_minor": 0,
  "metadata": {
    "colab": {
      "name": "Function.ipynb",
      "provenance": []
    },
    "kernelspec": {
      "name": "python3",
      "display_name": "Python 3"
    },
    "language_info": {
      "name": "python"
    }
  },
  "cells": [
    {
      "cell_type": "markdown",
      "metadata": {
        "id": "92xIjOe99qab"
      },
      "source": [
        ""
      ]
    },
    {
      "cell_type": "markdown",
      "metadata": {
        "id": "u2NB2eC1BN99"
      },
      "source": [
        "#1.Function"
      ]
    },
    {
      "cell_type": "code",
      "metadata": {
        "id": "X2AocwZbBs5A"
      },
      "source": [
        "stationfares = [\n",
        "            {\"station\": \"청량리\", \"fare\": 1500},\n",
        "            {\"station\": \"성북\", \"fare\": 1800},\n",
        "            {\"station\": \"의정부\", \"fare\": 2000},\n",
        "            {\"station\": \"소요산\", \"fare\": 2500}\n",
        "        ]"
      ],
      "execution_count": 32,
      "outputs": []
    },
    {
      "cell_type": "code",
      "metadata": {
        "id": "-e_oORVsCVkV"
      },
      "source": [
        "stations = []\n",
        "fares = []"
      ],
      "execution_count": 33,
      "outputs": []
    },
    {
      "cell_type": "code",
      "metadata": {
        "colab": {
          "base_uri": "https://localhost:8080/"
        },
        "id": "4fJfmZ7bC-5i",
        "outputId": "f1b7420d-6a55-4576-b236-7c6f1ed4def3"
      },
      "source": [
        "for stationfare in stationfares:\n",
        "  stations.append(stationfare['station'])\n",
        "  fares.append(stationfare[\"fare\"])\n",
        "print(stations)\n",
        "print(fares)"
      ],
      "execution_count": 34,
      "outputs": [
        {
          "output_type": "stream",
          "text": [
            "['청량리', '성북', '의정부', '소요산']\n",
            "[1500, 1800, 2000, 2500]\n"
          ],
          "name": "stdout"
        }
      ]
    },
    {
      "cell_type": "code",
      "metadata": {
        "colab": {
          "base_uri": "https://localhost:8080/"
        },
        "id": "zquBp7PID84k",
        "outputId": "4f978174-5cac-48f0-f912-7a2ae7677b4b"
      },
      "source": [
        "#element 숫자를 알려주는 함수\n",
        "len(stations)"
      ],
      "execution_count": 38,
      "outputs": [
        {
          "output_type": "execute_result",
          "data": {
            "text/plain": [
              "4"
            ]
          },
          "metadata": {
            "tags": []
          },
          "execution_count": 38
        }
      ]
    },
    {
      "cell_type": "code",
      "metadata": {
        "colab": {
          "base_uri": "https://localhost:8080/"
        },
        "id": "vICy_OHIEmo1",
        "outputId": "87e94582-dff0-4cdd-92c3-8b013e6f1420"
      },
      "source": [
        "#합\n",
        "sum(fares)"
      ],
      "execution_count": 37,
      "outputs": [
        {
          "output_type": "execute_result",
          "data": {
            "text/plain": [
              "7800"
            ]
          },
          "metadata": {
            "tags": []
          },
          "execution_count": 37
        }
      ]
    },
    {
      "cell_type": "code",
      "metadata": {
        "colab": {
          "base_uri": "https://localhost:8080/"
        },
        "id": "i-CEeIacEjhU",
        "outputId": "7abcd3bb-38e2-4a2e-92e2-9d2fbe0bed3d"
      },
      "source": [
        "#최대값\n",
        "max(fares)"
      ],
      "execution_count": 39,
      "outputs": [
        {
          "output_type": "execute_result",
          "data": {
            "text/plain": [
              "2500"
            ]
          },
          "metadata": {
            "tags": []
          },
          "execution_count": 39
        }
      ]
    },
    {
      "cell_type": "code",
      "metadata": {
        "colab": {
          "base_uri": "https://localhost:8080/"
        },
        "id": "sN5N-D5tEk-z",
        "outputId": "175888b9-3757-47a0-fd11-a2281ffa95c0"
      },
      "source": [
        "#최소값\n",
        "min(fares)"
      ],
      "execution_count": 40,
      "outputs": [
        {
          "output_type": "execute_result",
          "data": {
            "text/plain": [
              "1500"
            ]
          },
          "metadata": {
            "tags": []
          },
          "execution_count": 40
        }
      ]
    },
    {
      "cell_type": "code",
      "metadata": {
        "colab": {
          "base_uri": "https://localhost:8080/"
        },
        "id": "LEgmvxuLEp7z",
        "outputId": "1cf16274-6d90-4d88-9a15-e14ce43a9b6a"
      },
      "source": [
        "# index 표시하게 하는 함수 for 뒤에 idx 적고, in 뒤에 enumerate(기존리스트)하고, print(idx, 적음)\n",
        "for idx, station in enumerate(stations):\n",
        "  print(idx, station)"
      ],
      "execution_count": 45,
      "outputs": [
        {
          "output_type": "stream",
          "text": [
            "0 청량리\n",
            "1 성북\n",
            "2 의정부\n",
            "3 소요산\n"
          ],
          "name": "stdout"
        }
      ]
    },
    {
      "cell_type": "code",
      "metadata": {
        "colab": {
          "base_uri": "https://localhost:8080/"
        },
        "id": "Q6pTPyf2FdH7",
        "outputId": "a9520134-aff4-4930-ed1d-8d7973fd3aa4"
      },
      "source": [
        "#lambda 함수\n",
        "sum = lambda a, b : a+b\n",
        "sum(2,3)"
      ],
      "execution_count": 47,
      "outputs": [
        {
          "output_type": "execute_result",
          "data": {
            "text/plain": [
              "5"
            ]
          },
          "metadata": {
            "tags": []
          },
          "execution_count": 47
        }
      ]
    },
    {
      "cell_type": "code",
      "metadata": {
        "colab": {
          "base_uri": "https://localhost:8080/"
        },
        "id": "vUp77KeSFnda",
        "outputId": "9518d248-303d-4285-e105-852e534527bc"
      },
      "source": [
        "def getFare(station):\n",
        "  for stationfare in stationfares:\n",
        "    if stationfare['station'] == station:\n",
        "      return stationfare['fare']\n",
        "\n",
        "fare = getFare('소요산')\n",
        "print(fare)"
      ],
      "execution_count": 51,
      "outputs": [
        {
          "output_type": "stream",
          "text": [
            "2500\n"
          ],
          "name": "stdout"
        }
      ]
    },
    {
      "cell_type": "code",
      "metadata": {
        "colab": {
          "base_uri": "https://localhost:8080/"
        },
        "id": "jvIFvuEAGgg1",
        "outputId": "d9bd7f40-73c4-4efc-8dad-758726842746"
      },
      "source": [
        "for station in stations:\n",
        "  print(station, getFare(station))"
      ],
      "execution_count": 56,
      "outputs": [
        {
          "output_type": "stream",
          "text": [
            "청량리 1500\n",
            "성북 1800\n",
            "의정부 2000\n",
            "소요산 2500\n"
          ],
          "name": "stdout"
        }
      ]
    }
  ]
}