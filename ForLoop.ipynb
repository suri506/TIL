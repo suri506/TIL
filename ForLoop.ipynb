{
  "nbformat": 4,
  "nbformat_minor": 0,
  "metadata": {
    "colab": {
      "name": "Untitled2.ipynb",
      "provenance": []
    },
    "kernelspec": {
      "name": "python3",
      "display_name": "Python 3"
    },
    "language_info": {
      "name": "python"
    }
  },
  "cells": [
    {
      "cell_type": "markdown",
      "metadata": {
        "id": "h1_I87eG3WtS"
      },
      "source": [
        "#1. Condition"
      ]
    },
    {
      "cell_type": "code",
      "metadata": {
        "colab": {
          "base_uri": "https://localhost:8080/"
        },
        "id": "fmhszor33d1n",
        "outputId": "05dd965c-bd35-4253-a4eb-0b5504160a8e"
      },
      "source": [
        "name = input('What is your name : ')"
      ],
      "execution_count": 2,
      "outputs": [
        {
          "output_type": "stream",
          "text": [
            "What is your name : cat\n"
          ],
          "name": "stdout"
        }
      ]
    },
    {
      "cell_type": "code",
      "metadata": {
        "colab": {
          "base_uri": "https://localhost:8080/"
        },
        "id": "MeQL51hg3nCl",
        "outputId": "02c171c5-d2d0-48b2-fec3-e81da6ffd85c"
      },
      "source": [
        "if name == 'bird':\n",
        "  print('I could fly to you')\n",
        "else:\n",
        "  print('I could walk to you')\n"
      ],
      "execution_count": 3,
      "outputs": [
        {
          "output_type": "stream",
          "text": [
            "I could walk to you\n"
          ],
          "name": "stdout"
        }
      ]
    },
    {
      "cell_type": "code",
      "metadata": {
        "colab": {
          "base_uri": "https://localhost:8080/"
        },
        "id": "macsT77435hL",
        "outputId": "e1939075-b764-4af2-8816-0090647c0450"
      },
      "source": [
        "if name == 'bird':\n",
        "  print('I could fly to you')\n",
        "elif name == 'pig':\n",
        "  print('I could walk to you')\n",
        "else:\n",
        "  print('I could stay to you')"
      ],
      "execution_count": 4,
      "outputs": [
        {
          "output_type": "stream",
          "text": [
            "I could stay to you\n"
          ],
          "name": "stdout"
        }
      ]
    },
    {
      "cell_type": "markdown",
      "metadata": {
        "id": "Ko8slt4y5vIV"
      },
      "source": [
        "#2. Loop"
      ]
    },
    {
      "cell_type": "code",
      "metadata": {
        "id": "il0IIeZz4L3e"
      },
      "source": [
        "for i in range(2, 10):\n",
        "  for j in range(1, 10):\n",
        "    print(i, 'X', j, '=', i*j)"
      ],
      "execution_count": null,
      "outputs": []
    },
    {
      "cell_type": "markdown",
      "metadata": {
        "id": "H9B2vTAA6UlO"
      },
      "source": [
        "#3. While"
      ]
    },
    {
      "cell_type": "code",
      "metadata": {
        "id": "QbwBLP_G6auF"
      },
      "source": [
        "i = 2\n",
        "hile i < 10:\n",
        "  for j in range(1, 10):\n",
        "    print(i, 'X', j, '=', i*j)\n",
        "  print('-----------')\n",
        "  i = i + 1"
      ],
      "execution_count": null,
      "outputs": []
    },
    {
      "cell_type": "code",
      "metadata": {
        "id": "ZKXs94-67YE0"
      },
      "source": [
        "stationfares = [\n",
        "                    {\"station\": \"청량리\", \"fare\": 1500},\n",
        "                    {\"station\": \"성북\", \"fare\": 1800},\n",
        "                    {\"station\": \"의정부\", \"fare\": 2000},\n",
        "                    {\"station\": \"소요산\", \"fare\": 2500}\n",
        "                ]"
      ],
      "execution_count": 18,
      "outputs": []
    },
    {
      "cell_type": "code",
      "metadata": {
        "colab": {
          "base_uri": "https://localhost:8080/"
        },
        "id": "ExjH4ibd8IYv",
        "outputId": "43ed80fc-9ec8-44bd-d9d1-6562516fc0ae"
      },
      "source": [
        "stations = []\n",
        "fares = []\n",
        "for stationfare in stationfares:\n",
        "  stations.append(stationfare[\"station\"])\n",
        "  fares.append(stationfare[\"fare\"])\n",
        "print(stations)\n",
        "print(fares)"
      ],
      "execution_count": 17,
      "outputs": [
        {
          "output_type": "stream",
          "text": [
            "['청량리', '성북', '의정부', '소요산']\n",
            "[1500, 1800, 2000, 2500]\n"
          ],
          "name": "stdout"
        }
      ]
    }
  ]
}